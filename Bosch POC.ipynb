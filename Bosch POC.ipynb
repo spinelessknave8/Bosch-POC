{
 "cells": [
  {
   "cell_type": "markdown",
   "id": "f9068ee2",
   "metadata": {},
   "source": [
    "## Topic\n",
    "#### Data Model Proposals for Modelling of Processing of Food in Appliances"
   ]
  },
  {
   "cell_type": "markdown",
   "id": "09d7e546",
   "metadata": {},
   "source": [
    "#### Dataset: https://www.kaggle.com/datasets/lgarg442/microwave-usage-data"
   ]
  },
  {
   "cell_type": "markdown",
   "id": "242fa261",
   "metadata": {},
   "source": [
    "Let's import the dataset first from Kaggle"
   ]
  },
  {
   "cell_type": "code",
   "execution_count": 3,
   "id": "e7f34ca9",
   "metadata": {},
   "outputs": [
    {
     "name": "stderr",
     "output_type": "stream",
     "text": [
      "WARNING: Ignoring invalid distribution -rotobuf (c:\\users\\amit\\anaconda3\\lib\\site-packages)\n",
      "WARNING: Ignoring invalid distribution -rotobuf (c:\\users\\amit\\anaconda3\\lib\\site-packages)\n",
      "WARNING: Ignoring invalid distribution -rotobuf (c:\\users\\amit\\anaconda3\\lib\\site-packages)\n",
      "WARNING: Ignoring invalid distribution -rotobuf (c:\\users\\amit\\anaconda3\\lib\\site-packages)\n",
      "WARNING: Ignoring invalid distribution -rotobuf (c:\\users\\amit\\anaconda3\\lib\\site-packages)\n",
      "WARNING: Ignoring invalid distribution -rotobuf (c:\\users\\amit\\anaconda3\\lib\\site-packages)\n"
     ]
    }
   ],
   "source": [
    "!pip install -q kaggle"
   ]
  },
  {
   "cell_type": "code",
   "execution_count": 2,
   "id": "1cf5c1c3",
   "metadata": {},
   "outputs": [
    {
     "name": "stdout",
     "output_type": "stream",
     "text": [
      "Warning: Looks like you're using an outdated API Version, please consider updating (server 1.7.4.2 / client 1.6.17)\n",
      "Dataset URL: https://www.kaggle.com/datasets/lgarg442/microwave-usage-data\n",
      "License(s): apache-2.0\n",
      "Downloading microwave-usage-data.zip to C:\\Users\\Amit\\Desktop\\Bosch_project\n",
      "\n"
     ]
    },
    {
     "name": "stderr",
     "output_type": "stream",
     "text": [
      "\n",
      "  0%|          | 0.00/5.52k [00:00<?, ?B/s]\n",
      "100%|##########| 5.52k/5.52k [00:01<00:00, 4.78kB/s]\n",
      "100%|##########| 5.52k/5.52k [00:01<00:00, 4.77kB/s]\n"
     ]
    }
   ],
   "source": [
    "!kaggle datasets download lgarg442/microwave-usage-data"
   ]
  },
  {
   "cell_type": "code",
   "execution_count": 1,
   "id": "c561687a",
   "metadata": {},
   "outputs": [
    {
     "name": "stdout",
     "output_type": "stream",
     "text": [
      "Successfully extracted microwave-usage-data.zip\n"
     ]
    }
   ],
   "source": [
    "import zipfile\n",
    "import os\n",
    "\n",
    "zip_file_path = \"microwave-usage-data.zip\"\n",
    "\n",
    "with zipfile.ZipFile(zip_file_path, 'r') as zip_ref:\n",
    "    zip_ref.extractall(\".\") \n",
    "\n",
    "print(f'Successfully extracted {zip_file_path}')"
   ]
  },
  {
   "cell_type": "markdown",
   "id": "0246b63e",
   "metadata": {},
   "source": [
    "# Section 1: Exploratory Data Analysis"
   ]
  },
  {
   "cell_type": "markdown",
   "id": "9e874590",
   "metadata": {},
   "source": [
    "### Now we need to read the csv file"
   ]
  },
  {
   "cell_type": "code",
   "execution_count": 2,
   "id": "16c24eea",
   "metadata": {},
   "outputs": [],
   "source": [
    "import pandas as pd\n",
    "\n",
    "microwave_df = pd.read_csv(\"microwave_usage_dataset.csv\")"
   ]
  },
  {
   "cell_type": "code",
   "execution_count": 3,
   "id": "ef7179f6",
   "metadata": {},
   "outputs": [
    {
     "data": {
      "text/html": [
       "<div>\n",
       "<style scoped>\n",
       "    .dataframe tbody tr th:only-of-type {\n",
       "        vertical-align: middle;\n",
       "    }\n",
       "\n",
       "    .dataframe tbody tr th {\n",
       "        vertical-align: top;\n",
       "    }\n",
       "\n",
       "    .dataframe thead th {\n",
       "        text-align: right;\n",
       "    }\n",
       "</style>\n",
       "<table border=\"1\" class=\"dataframe\">\n",
       "  <thead>\n",
       "    <tr style=\"text-align: right;\">\n",
       "      <th></th>\n",
       "      <th>Timestamp</th>\n",
       "      <th>User_ID</th>\n",
       "      <th>Mode_Selected</th>\n",
       "      <th>Duration_Seconds</th>\n",
       "      <th>Power_Level</th>\n",
       "      <th>Door_Open_Count</th>\n",
       "      <th>Food_Type</th>\n",
       "    </tr>\n",
       "  </thead>\n",
       "  <tbody>\n",
       "    <tr>\n",
       "      <th>0</th>\n",
       "      <td>2025-05-15 21:45:43</td>\n",
       "      <td>User_055</td>\n",
       "      <td>Defrost</td>\n",
       "      <td>123</td>\n",
       "      <td>Low</td>\n",
       "      <td>1</td>\n",
       "      <td>Vegetables</td>\n",
       "    </tr>\n",
       "    <tr>\n",
       "      <th>1</th>\n",
       "      <td>2025-06-06 21:05:13</td>\n",
       "      <td>User_089</td>\n",
       "      <td>Popcorn</td>\n",
       "      <td>371</td>\n",
       "      <td>Medium</td>\n",
       "      <td>2</td>\n",
       "      <td>Vegetables</td>\n",
       "    </tr>\n",
       "    <tr>\n",
       "      <th>2</th>\n",
       "      <td>2025-05-17 10:30:18</td>\n",
       "      <td>User_049</td>\n",
       "      <td>Reheat</td>\n",
       "      <td>436</td>\n",
       "      <td>Medium</td>\n",
       "      <td>3</td>\n",
       "      <td>Unknown</td>\n",
       "    </tr>\n",
       "    <tr>\n",
       "      <th>3</th>\n",
       "      <td>2025-05-27 20:39:03</td>\n",
       "      <td>User_020</td>\n",
       "      <td>Defrost</td>\n",
       "      <td>502</td>\n",
       "      <td>High</td>\n",
       "      <td>1</td>\n",
       "      <td>Pizza</td>\n",
       "    </tr>\n",
       "    <tr>\n",
       "      <th>4</th>\n",
       "      <td>2025-05-28 00:06:52</td>\n",
       "      <td>User_088</td>\n",
       "      <td>Custom</td>\n",
       "      <td>420</td>\n",
       "      <td>Low</td>\n",
       "      <td>3</td>\n",
       "      <td>Chicken</td>\n",
       "    </tr>\n",
       "  </tbody>\n",
       "</table>\n",
       "</div>"
      ],
      "text/plain": [
       "             Timestamp   User_ID Mode_Selected  Duration_Seconds Power_Level  \\\n",
       "0  2025-05-15 21:45:43  User_055       Defrost               123         Low   \n",
       "1  2025-06-06 21:05:13  User_089       Popcorn               371      Medium   \n",
       "2  2025-05-17 10:30:18  User_049        Reheat               436      Medium   \n",
       "3  2025-05-27 20:39:03  User_020       Defrost               502        High   \n",
       "4  2025-05-28 00:06:52  User_088        Custom               420         Low   \n",
       "\n",
       "   Door_Open_Count   Food_Type  \n",
       "0                1  Vegetables  \n",
       "1                2  Vegetables  \n",
       "2                3     Unknown  \n",
       "3                1       Pizza  \n",
       "4                3     Chicken  "
      ]
     },
     "execution_count": 3,
     "metadata": {},
     "output_type": "execute_result"
    }
   ],
   "source": [
    "# let's inspect the dataframe\n",
    "microwave_df.head()"
   ]
  },
  {
   "cell_type": "code",
   "execution_count": 4,
   "id": "ae3722ba",
   "metadata": {},
   "outputs": [],
   "source": [
    "# we drop the User_ID since we DON'T want any personal data\n",
    "microwave_df = microwave_df.drop('User_ID', axis = 'columns')"
   ]
  },
  {
   "cell_type": "code",
   "execution_count": 5,
   "id": "6bf09ed0",
   "metadata": {},
   "outputs": [
    {
     "name": "stdout",
     "output_type": "stream",
     "text": [
      "<class 'pandas.core.frame.DataFrame'>\n",
      "RangeIndex: 400 entries, 0 to 399\n",
      "Data columns (total 6 columns):\n",
      " #   Column            Non-Null Count  Dtype \n",
      "---  ------            --------------  ----- \n",
      " 0   Timestamp         400 non-null    object\n",
      " 1   Mode_Selected     400 non-null    object\n",
      " 2   Duration_Seconds  400 non-null    int64 \n",
      " 3   Power_Level       400 non-null    object\n",
      " 4   Door_Open_Count   400 non-null    int64 \n",
      " 5   Food_Type         400 non-null    object\n",
      "dtypes: int64(2), object(4)\n",
      "memory usage: 18.9+ KB\n"
     ]
    }
   ],
   "source": [
    "# check non-null count and type\n",
    "microwave_df.info()"
   ]
  },
  {
   "cell_type": "code",
   "execution_count": 6,
   "id": "80e5ec1c",
   "metadata": {
    "scrolled": true
   },
   "outputs": [
    {
     "data": {
      "text/html": [
       "<div>\n",
       "<style scoped>\n",
       "    .dataframe tbody tr th:only-of-type {\n",
       "        vertical-align: middle;\n",
       "    }\n",
       "\n",
       "    .dataframe tbody tr th {\n",
       "        vertical-align: top;\n",
       "    }\n",
       "\n",
       "    .dataframe thead th {\n",
       "        text-align: right;\n",
       "    }\n",
       "</style>\n",
       "<table border=\"1\" class=\"dataframe\">\n",
       "  <thead>\n",
       "    <tr style=\"text-align: right;\">\n",
       "      <th></th>\n",
       "      <th>Timestamp</th>\n",
       "      <th>Mode_Selected</th>\n",
       "      <th>Duration_Seconds</th>\n",
       "      <th>Power_Level</th>\n",
       "      <th>Door_Open_Count</th>\n",
       "      <th>Food_Type</th>\n",
       "    </tr>\n",
       "  </thead>\n",
       "  <tbody>\n",
       "    <tr>\n",
       "      <th>count</th>\n",
       "      <td>400</td>\n",
       "      <td>400</td>\n",
       "      <td>400.000000</td>\n",
       "      <td>400</td>\n",
       "      <td>400.000000</td>\n",
       "      <td>400</td>\n",
       "    </tr>\n",
       "    <tr>\n",
       "      <th>unique</th>\n",
       "      <td>400</td>\n",
       "      <td>4</td>\n",
       "      <td>NaN</td>\n",
       "      <td>3</td>\n",
       "      <td>NaN</td>\n",
       "      <td>5</td>\n",
       "    </tr>\n",
       "    <tr>\n",
       "      <th>top</th>\n",
       "      <td>2025-05-15 21:45:43</td>\n",
       "      <td>Popcorn</td>\n",
       "      <td>NaN</td>\n",
       "      <td>Medium</td>\n",
       "      <td>NaN</td>\n",
       "      <td>Chicken</td>\n",
       "    </tr>\n",
       "    <tr>\n",
       "      <th>freq</th>\n",
       "      <td>1</td>\n",
       "      <td>104</td>\n",
       "      <td>NaN</td>\n",
       "      <td>158</td>\n",
       "      <td>NaN</td>\n",
       "      <td>88</td>\n",
       "    </tr>\n",
       "    <tr>\n",
       "      <th>mean</th>\n",
       "      <td>NaN</td>\n",
       "      <td>NaN</td>\n",
       "      <td>314.127500</td>\n",
       "      <td>NaN</td>\n",
       "      <td>1.955000</td>\n",
       "      <td>NaN</td>\n",
       "    </tr>\n",
       "    <tr>\n",
       "      <th>std</th>\n",
       "      <td>NaN</td>\n",
       "      <td>NaN</td>\n",
       "      <td>162.262778</td>\n",
       "      <td>NaN</td>\n",
       "      <td>0.796594</td>\n",
       "      <td>NaN</td>\n",
       "    </tr>\n",
       "    <tr>\n",
       "      <th>min</th>\n",
       "      <td>NaN</td>\n",
       "      <td>NaN</td>\n",
       "      <td>33.000000</td>\n",
       "      <td>NaN</td>\n",
       "      <td>1.000000</td>\n",
       "      <td>NaN</td>\n",
       "    </tr>\n",
       "    <tr>\n",
       "      <th>25%</th>\n",
       "      <td>NaN</td>\n",
       "      <td>NaN</td>\n",
       "      <td>188.750000</td>\n",
       "      <td>NaN</td>\n",
       "      <td>1.000000</td>\n",
       "      <td>NaN</td>\n",
       "    </tr>\n",
       "    <tr>\n",
       "      <th>50%</th>\n",
       "      <td>NaN</td>\n",
       "      <td>NaN</td>\n",
       "      <td>307.000000</td>\n",
       "      <td>NaN</td>\n",
       "      <td>2.000000</td>\n",
       "      <td>NaN</td>\n",
       "    </tr>\n",
       "    <tr>\n",
       "      <th>75%</th>\n",
       "      <td>NaN</td>\n",
       "      <td>NaN</td>\n",
       "      <td>449.750000</td>\n",
       "      <td>NaN</td>\n",
       "      <td>3.000000</td>\n",
       "      <td>NaN</td>\n",
       "    </tr>\n",
       "    <tr>\n",
       "      <th>max</th>\n",
       "      <td>NaN</td>\n",
       "      <td>NaN</td>\n",
       "      <td>599.000000</td>\n",
       "      <td>NaN</td>\n",
       "      <td>3.000000</td>\n",
       "      <td>NaN</td>\n",
       "    </tr>\n",
       "  </tbody>\n",
       "</table>\n",
       "</div>"
      ],
      "text/plain": [
       "                  Timestamp Mode_Selected  Duration_Seconds Power_Level  \\\n",
       "count                   400           400        400.000000         400   \n",
       "unique                  400             4               NaN           3   \n",
       "top     2025-05-15 21:45:43       Popcorn               NaN      Medium   \n",
       "freq                      1           104               NaN         158   \n",
       "mean                    NaN           NaN        314.127500         NaN   \n",
       "std                     NaN           NaN        162.262778         NaN   \n",
       "min                     NaN           NaN         33.000000         NaN   \n",
       "25%                     NaN           NaN        188.750000         NaN   \n",
       "50%                     NaN           NaN        307.000000         NaN   \n",
       "75%                     NaN           NaN        449.750000         NaN   \n",
       "max                     NaN           NaN        599.000000         NaN   \n",
       "\n",
       "        Door_Open_Count Food_Type  \n",
       "count        400.000000       400  \n",
       "unique              NaN         5  \n",
       "top                 NaN   Chicken  \n",
       "freq                NaN        88  \n",
       "mean           1.955000       NaN  \n",
       "std            0.796594       NaN  \n",
       "min            1.000000       NaN  \n",
       "25%            1.000000       NaN  \n",
       "50%            2.000000       NaN  \n",
       "75%            3.000000       NaN  \n",
       "max            3.000000       NaN  "
      ]
     },
     "execution_count": 6,
     "metadata": {},
     "output_type": "execute_result"
    }
   ],
   "source": [
    "# check general stats for data\n",
    "microwave_df.describe(include='all')"
   ]
  },
  {
   "cell_type": "code",
   "execution_count": 7,
   "id": "1b3869ef",
   "metadata": {},
   "outputs": [],
   "source": [
    "# since we have no null values then we don't need to fill or remove any datapoints"
   ]
  },
  {
   "cell_type": "code",
   "execution_count": 8,
   "id": "5de60c34",
   "metadata": {},
   "outputs": [],
   "source": [
    "#convert 'Timestamp' to datetime object\n",
    "microwave_df['Timestamp'] = pd.to_datetime(microwave_df['Timestamp'], errors = 'coerce')\n",
    "\n",
    "# break up datetime by hour, dayofweek and month\n",
    "microwave_df['Hour'] = microwave_df['Timestamp'].dt.hour\n",
    "microwave_df['DayOfWeek'] = microwave_df['Timestamp'].dt.day_name()\n",
    "microwave_df['Month'] = microwave_df['Timestamp'].dt.month"
   ]
  },
  {
   "cell_type": "code",
   "execution_count": 9,
   "id": "05a2f30d",
   "metadata": {},
   "outputs": [
    {
     "name": "stdout",
     "output_type": "stream",
     "text": [
      "Unique month counts:\n",
      "5    241\n",
      "6    159\n",
      "Name: Month, dtype: int64\n",
      "\n",
      "Unique Day of week counts:\n",
      "Friday       46\n",
      "Monday       54\n",
      "Saturday     66\n",
      "Sunday       42\n",
      "Thursday     57\n",
      "Tuesday      61\n",
      "Wednesday    74\n",
      "Name: DayOfWeek, dtype: int64\n",
      "\n",
      "Unique hour counts:\n",
      "0     22\n",
      "1     26\n",
      "2     22\n",
      "3     19\n",
      "4     16\n",
      "5     14\n",
      "6     22\n",
      "7     13\n",
      "8     16\n",
      "9     15\n",
      "10    21\n",
      "11    13\n",
      "12    12\n",
      "13    18\n",
      "14    17\n",
      "15    11\n",
      "16    11\n",
      "17    16\n",
      "18    18\n",
      "19    17\n",
      "20    17\n",
      "21    17\n",
      "22    16\n",
      "23    11\n",
      "Name: Hour, dtype: int64\n"
     ]
    }
   ],
   "source": [
    "# now we need to check counts to see if we need to drop any of these values\n",
    "\n",
    "print(\"Unique month counts:\")\n",
    "print(microwave_df['Month'].value_counts().sort_index())\n",
    "\n",
    "print(\"\\nUnique Day of week counts:\")\n",
    "print(microwave_df['DayOfWeek'].value_counts().sort_index())\n",
    "\n",
    "print(\"\\nUnique hour counts:\")\n",
    "print(microwave_df['Hour'].value_counts().sort_index())"
   ]
  },
  {
   "cell_type": "code",
   "execution_count": 10,
   "id": "0cf37810",
   "metadata": {},
   "outputs": [],
   "source": [
    "# drop months because only two are represented\n",
    "microwave_df = microwave_df.drop('Month', axis = 'columns')"
   ]
  },
  {
   "cell_type": "code",
   "execution_count": 11,
   "id": "e333d3be",
   "metadata": {},
   "outputs": [
    {
     "name": "stderr",
     "output_type": "stream",
     "text": [
      "C:\\Users\\Amit\\anaconda3\\lib\\site-packages\\scipy\\__init__.py:155: UserWarning: A NumPy version >=1.18.5 and <1.25.0 is required for this version of SciPy (detected version 1.26.4\n",
      "  warnings.warn(f\"A NumPy version >={np_minversion} and <{np_maxversion}\"\n"
     ]
    }
   ],
   "source": [
    "import seaborn as sns\n",
    "import matplotlib.pyplot as plt"
   ]
  },
  {
   "cell_type": "code",
   "execution_count": 12,
   "id": "6906684a",
   "metadata": {},
   "outputs": [
    {
     "data": {
      "image/png": "[encoded data removed]",
      "text/plain": [
       "<Figure size 640x480 with 1 Axes>"
      ]
     },
     "metadata": {},
     "output_type": "display_data"
    }
   ],
   "source": [
    "# examine the most common foodtypes\n",
    "sns.countplot(x='Food_Type', data=microwave_df)\n",
    "plt.title(\"Food Type Frequency\")\n",
    "plt.xticks(rotation=45)\n",
    "plt.show()"
   ]
  },
  {
   "cell_type": "markdown",
   "id": "ac204337",
   "metadata": {},
   "source": [
    "Chicken is the most commonly microwaved foodtype."
   ]
  },
  {
   "cell_type": "code",
   "execution_count": 13,
   "id": "13591c1e",
   "metadata": {},
   "outputs": [
    {
     "data": {
      "image/png": "[encoded data removed]",
      "text/plain": [
       "<Figure size 640x480 with 1 Axes>"
      ]
     },
     "metadata": {},
     "output_type": "display_data"
    }
   ],
   "source": [
    "# treat duration as a continuous variable (assuming it is a dial)\n",
    "# examine the most common foodtypes\n",
    "sns.histplot(x='Duration_Seconds', data=microwave_df)\n",
    "plt.title(\"Duration Frequency\")\n",
    "plt.xticks(rotation=45)\n",
    "plt.show()"
   ]
  },
  {
   "cell_type": "markdown",
   "id": "0f13c51f",
   "metadata": {},
   "source": [
    "200-250 seconds is the most common duration range, followed by 550 - 600 seconds. There is no normal distribution for this data."
   ]
  },
  {
   "cell_type": "code",
   "execution_count": 14,
   "id": "5c452665",
   "metadata": {},
   "outputs": [
    {
     "data": {
      "image/png": "[encoded data removed]",
      "text/plain": [
       "<Figure size 640x480 with 1 Axes>"
      ]
     },
     "metadata": {},
     "output_type": "display_data"
    }
   ],
   "source": [
    "sns.countplot(x='Mode_Selected', data=microwave_df)\n",
    "plt.title(\"Mode Selected Frequency\")\n",
    "plt.show()"
   ]
  },
  {
   "cell_type": "markdown",
   "id": "5bfc770e",
   "metadata": {},
   "source": [
    "We can see that Custom mode is the least popular, while Defrost, Popcorn and Reheat are all used similiarly often."
   ]
  },
  {
   "cell_type": "code",
   "execution_count": 15,
   "id": "f2c4183f",
   "metadata": {},
   "outputs": [
    {
     "data": {
      "image/png": "[encoded data removed]",
      "text/plain": [
       "<Figure size 640x480 with 1 Axes>"
      ]
     },
     "metadata": {},
     "output_type": "display_data"
    }
   ],
   "source": [
    "sns.countplot(x='Power_Level', data=microwave_df)\n",
    "plt.title(\"Power Level Usage\")\n",
    "plt.show()"
   ]
  },
  {
   "cell_type": "markdown",
   "id": "0e76fdf7",
   "metadata": {},
   "source": [
    "It seems that the Medium power setting is the most frequently used one."
   ]
  },
  {
   "cell_type": "code",
   "execution_count": 16,
   "id": "0fdc64e0",
   "metadata": {},
   "outputs": [
    {
     "data": {
      "image/png": "[encoded data removed]",
      "text/plain": [
       "<Figure size 1000x600 with 1 Axes>"
      ]
     },
     "metadata": {},
     "output_type": "display_data"
    },
    {
     "data": {
      "image/png": "[encoded data removed]",
      "text/plain": [
       "<Figure size 1000x600 with 1 Axes>"
      ]
     },
     "metadata": {},
     "output_type": "display_data"
    }
   ],
   "source": [
    "# plot the frequency of date and times\n",
    "# Day of week\n",
    "plt.figure(figsize=(10, 6))\n",
    "sns.countplot(x='DayOfWeek', data=microwave_df, order=['Monday','Tuesday','Wednesday','Thursday','Friday','Saturday','Sunday'])\n",
    "plt.title('Microwave Usage by Day of Week')\n",
    "plt.xticks(rotation=45)\n",
    "plt.tight_layout()\n",
    "plt.show()\n",
    "\n",
    "# hour\n",
    "plt.figure(figsize=(10, 6))\n",
    "sns.countplot(x='Hour', data=microwave_df)\n",
    "plt.title('Microwave Usage by Hour')\n",
    "plt.tight_layout()\n",
    "plt.show()"
   ]
  },
  {
   "cell_type": "markdown",
   "id": "961cb78a",
   "metadata": {},
   "source": [
    "The microwave is used most frequently on Wednesdays. Moreover, it is most frequently used at 0100 (1 am)."
   ]
  },
  {
   "cell_type": "markdown",
   "id": "9a96ba11",
   "metadata": {},
   "source": [
    "# Section 2: Feature Engineering"
   ]
  },
  {
   "cell_type": "code",
   "execution_count": 17,
   "id": "5952f1cb",
   "metadata": {},
   "outputs": [],
   "source": [
    "# first we perform ordinal encoding\n",
    "power_mapping = {\n",
    "    'Low': 1,\n",
    "    'Medium': 2,\n",
    "    'High': 3\n",
    "}\n",
    "\n",
    "# map the values in a new column\n",
    "microwave_df['Power_Level_Value'] = microwave_df['Power_Level'].map(power_mapping)\n",
    "\n",
    "# create a new column Power_Consumed as Duration * Power_Level_Value\n",
    "microwave_df['Power_Consumed'] = microwave_df['Duration_Seconds'] * microwave_df['Power_Level_Value']"
   ]
  },
  {
   "cell_type": "code",
   "execution_count": 18,
   "id": "98de2ad3",
   "metadata": {},
   "outputs": [],
   "source": [
    "microwave_df = microwave_df.drop(['Timestamp','Power_Level'],axis = 'columns')"
   ]
  },
  {
   "cell_type": "code",
   "execution_count": 19,
   "id": "823f16ab",
   "metadata": {},
   "outputs": [
    {
     "data": {
      "text/html": [
       "<div>\n",
       "<style scoped>\n",
       "    .dataframe tbody tr th:only-of-type {\n",
       "        vertical-align: middle;\n",
       "    }\n",
       "\n",
       "    .dataframe tbody tr th {\n",
       "        vertical-align: top;\n",
       "    }\n",
       "\n",
       "    .dataframe thead th {\n",
       "        text-align: right;\n",
       "    }\n",
       "</style>\n",
       "<table border=\"1\" class=\"dataframe\">\n",
       "  <thead>\n",
       "    <tr style=\"text-align: right;\">\n",
       "      <th></th>\n",
       "      <th>Mode_Selected</th>\n",
       "      <th>Duration_Seconds</th>\n",
       "      <th>Door_Open_Count</th>\n",
       "      <th>Food_Type</th>\n",
       "      <th>Hour</th>\n",
       "      <th>DayOfWeek</th>\n",
       "      <th>Power_Level_Value</th>\n",
       "      <th>Power_Consumed</th>\n",
       "    </tr>\n",
       "  </thead>\n",
       "  <tbody>\n",
       "    <tr>\n",
       "      <th>0</th>\n",
       "      <td>Defrost</td>\n",
       "      <td>123</td>\n",
       "      <td>1</td>\n",
       "      <td>Vegetables</td>\n",
       "      <td>21</td>\n",
       "      <td>Thursday</td>\n",
       "      <td>1</td>\n",
       "      <td>123</td>\n",
       "    </tr>\n",
       "    <tr>\n",
       "      <th>1</th>\n",
       "      <td>Popcorn</td>\n",
       "      <td>371</td>\n",
       "      <td>2</td>\n",
       "      <td>Vegetables</td>\n",
       "      <td>21</td>\n",
       "      <td>Friday</td>\n",
       "      <td>2</td>\n",
       "      <td>742</td>\n",
       "    </tr>\n",
       "    <tr>\n",
       "      <th>2</th>\n",
       "      <td>Reheat</td>\n",
       "      <td>436</td>\n",
       "      <td>3</td>\n",
       "      <td>Unknown</td>\n",
       "      <td>10</td>\n",
       "      <td>Saturday</td>\n",
       "      <td>2</td>\n",
       "      <td>872</td>\n",
       "    </tr>\n",
       "    <tr>\n",
       "      <th>3</th>\n",
       "      <td>Defrost</td>\n",
       "      <td>502</td>\n",
       "      <td>1</td>\n",
       "      <td>Pizza</td>\n",
       "      <td>20</td>\n",
       "      <td>Tuesday</td>\n",
       "      <td>3</td>\n",
       "      <td>1506</td>\n",
       "    </tr>\n",
       "    <tr>\n",
       "      <th>4</th>\n",
       "      <td>Custom</td>\n",
       "      <td>420</td>\n",
       "      <td>3</td>\n",
       "      <td>Chicken</td>\n",
       "      <td>0</td>\n",
       "      <td>Wednesday</td>\n",
       "      <td>1</td>\n",
       "      <td>420</td>\n",
       "    </tr>\n",
       "  </tbody>\n",
       "</table>\n",
       "</div>"
      ],
      "text/plain": [
       "  Mode_Selected  Duration_Seconds  Door_Open_Count   Food_Type  Hour  \\\n",
       "0       Defrost               123                1  Vegetables    21   \n",
       "1       Popcorn               371                2  Vegetables    21   \n",
       "2        Reheat               436                3     Unknown    10   \n",
       "3       Defrost               502                1       Pizza    20   \n",
       "4        Custom               420                3     Chicken     0   \n",
       "\n",
       "   DayOfWeek  Power_Level_Value  Power_Consumed  \n",
       "0   Thursday                  1             123  \n",
       "1     Friday                  2             742  \n",
       "2   Saturday                  2             872  \n",
       "3    Tuesday                  3            1506  \n",
       "4  Wednesday                  1             420  "
      ]
     },
     "execution_count": 19,
     "metadata": {},
     "output_type": "execute_result"
    }
   ],
   "source": [
    "microwave_df.head()"
   ]
  },
  {
   "cell_type": "code",
   "execution_count": 20,
   "id": "56645f54",
   "metadata": {},
   "outputs": [],
   "source": [
    "# now we are going to perform one hot encoding for our machine learning later, so we will create a separate copy of the df\n",
    "from sklearn.preprocessing import OneHotEncoder\n",
    "\n",
    "encoder = OneHotEncoder(sparse=False, drop='first')\n",
    "encoded_array = encoder.fit_transform(microwave_df[['Mode_Selected', 'Food_Type','DayOfWeek','Hour']])\n",
    "\n",
    "encoded_df = pd.DataFrame(encoded_array, columns=encoder.get_feature_names_out(['Mode_Selected', 'Food_Type','DayOfWeek','Hour']))\n",
    "\n",
    "microwave_df_ml = pd.concat([microwave_df, encoded_df], axis=1)"
   ]
  },
  {
   "cell_type": "code",
   "execution_count": 21,
   "id": "45f3be5e",
   "metadata": {},
   "outputs": [],
   "source": [
    "microwave_df_ml = microwave_df_ml.drop(['Mode_Selected', 'Food_Type','DayOfWeek','Hour','Duration_Seconds','Power_Level_Value'], axis = 'columns')"
   ]
  },
  {
   "cell_type": "code",
   "execution_count": 22,
   "id": "ff1cdf9d",
   "metadata": {},
   "outputs": [
    {
     "data": {
      "text/html": [
       "<div>\n",
       "<style scoped>\n",
       "    .dataframe tbody tr th:only-of-type {\n",
       "        vertical-align: middle;\n",
       "    }\n",
       "\n",
       "    .dataframe tbody tr th {\n",
       "        vertical-align: top;\n",
       "    }\n",
       "\n",
       "    .dataframe thead th {\n",
       "        text-align: right;\n",
       "    }\n",
       "</style>\n",
       "<table border=\"1\" class=\"dataframe\">\n",
       "  <thead>\n",
       "    <tr style=\"text-align: right;\">\n",
       "      <th></th>\n",
       "      <th>Duration_Seconds</th>\n",
       "      <th>Door_Open_Count</th>\n",
       "      <th>Power_Level_Value</th>\n",
       "      <th>Power_Consumed</th>\n",
       "      <th>Mode_Selected_Defrost</th>\n",
       "      <th>Mode_Selected_Popcorn</th>\n",
       "      <th>Mode_Selected_Reheat</th>\n",
       "      <th>Food_Type_Pizza</th>\n",
       "      <th>Food_Type_Rice</th>\n",
       "      <th>Food_Type_Unknown</th>\n",
       "      <th>...</th>\n",
       "      <th>Hour_14</th>\n",
       "      <th>Hour_15</th>\n",
       "      <th>Hour_16</th>\n",
       "      <th>Hour_17</th>\n",
       "      <th>Hour_18</th>\n",
       "      <th>Hour_19</th>\n",
       "      <th>Hour_20</th>\n",
       "      <th>Hour_21</th>\n",
       "      <th>Hour_22</th>\n",
       "      <th>Hour_23</th>\n",
       "    </tr>\n",
       "  </thead>\n",
       "  <tbody>\n",
       "    <tr>\n",
       "      <th>0</th>\n",
       "      <td>123</td>\n",
       "      <td>1</td>\n",
       "      <td>1</td>\n",
       "      <td>123</td>\n",
       "      <td>1.0</td>\n",
       "      <td>0.0</td>\n",
       "      <td>0.0</td>\n",
       "      <td>0.0</td>\n",
       "      <td>0.0</td>\n",
       "      <td>0.0</td>\n",
       "      <td>...</td>\n",
       "      <td>0.0</td>\n",
       "      <td>0.0</td>\n",
       "      <td>0.0</td>\n",
       "      <td>0.0</td>\n",
       "      <td>0.0</td>\n",
       "      <td>0.0</td>\n",
       "      <td>0.0</td>\n",
       "      <td>1.0</td>\n",
       "      <td>0.0</td>\n",
       "      <td>0.0</td>\n",
       "    </tr>\n",
       "    <tr>\n",
       "      <th>1</th>\n",
       "      <td>371</td>\n",
       "      <td>2</td>\n",
       "      <td>2</td>\n",
       "      <td>742</td>\n",
       "      <td>0.0</td>\n",
       "      <td>1.0</td>\n",
       "      <td>0.0</td>\n",
       "      <td>0.0</td>\n",
       "      <td>0.0</td>\n",
       "      <td>0.0</td>\n",
       "      <td>...</td>\n",
       "      <td>0.0</td>\n",
       "      <td>0.0</td>\n",
       "      <td>0.0</td>\n",
       "      <td>0.0</td>\n",
       "      <td>0.0</td>\n",
       "      <td>0.0</td>\n",
       "      <td>0.0</td>\n",
       "      <td>1.0</td>\n",
       "      <td>0.0</td>\n",
       "      <td>0.0</td>\n",
       "    </tr>\n",
       "    <tr>\n",
       "      <th>2</th>\n",
       "      <td>436</td>\n",
       "      <td>3</td>\n",
       "      <td>2</td>\n",
       "      <td>872</td>\n",
       "      <td>0.0</td>\n",
       "      <td>0.0</td>\n",
       "      <td>1.0</td>\n",
       "      <td>0.0</td>\n",
       "      <td>0.0</td>\n",
       "      <td>1.0</td>\n",
       "      <td>...</td>\n",
       "      <td>0.0</td>\n",
       "      <td>0.0</td>\n",
       "      <td>0.0</td>\n",
       "      <td>0.0</td>\n",
       "      <td>0.0</td>\n",
       "      <td>0.0</td>\n",
       "      <td>0.0</td>\n",
       "      <td>0.0</td>\n",
       "      <td>0.0</td>\n",
       "      <td>0.0</td>\n",
       "    </tr>\n",
       "    <tr>\n",
       "      <th>3</th>\n",
       "      <td>502</td>\n",
       "      <td>1</td>\n",
       "      <td>3</td>\n",
       "      <td>1506</td>\n",
       "      <td>1.0</td>\n",
       "      <td>0.0</td>\n",
       "      <td>0.0</td>\n",
       "      <td>1.0</td>\n",
       "      <td>0.0</td>\n",
       "      <td>0.0</td>\n",
       "      <td>...</td>\n",
       "      <td>0.0</td>\n",
       "      <td>0.0</td>\n",
       "      <td>0.0</td>\n",
       "      <td>0.0</td>\n",
       "      <td>0.0</td>\n",
       "      <td>0.0</td>\n",
       "      <td>1.0</td>\n",
       "      <td>0.0</td>\n",
       "      <td>0.0</td>\n",
       "      <td>0.0</td>\n",
       "    </tr>\n",
       "    <tr>\n",
       "      <th>4</th>\n",
       "      <td>420</td>\n",
       "      <td>3</td>\n",
       "      <td>1</td>\n",
       "      <td>420</td>\n",
       "      <td>0.0</td>\n",
       "      <td>0.0</td>\n",
       "      <td>0.0</td>\n",
       "      <td>0.0</td>\n",
       "      <td>0.0</td>\n",
       "      <td>0.0</td>\n",
       "      <td>...</td>\n",
       "      <td>0.0</td>\n",
       "      <td>0.0</td>\n",
       "      <td>0.0</td>\n",
       "      <td>0.0</td>\n",
       "      <td>0.0</td>\n",
       "      <td>0.0</td>\n",
       "      <td>0.0</td>\n",
       "      <td>0.0</td>\n",
       "      <td>0.0</td>\n",
       "      <td>0.0</td>\n",
       "    </tr>\n",
       "  </tbody>\n",
       "</table>\n",
       "<p>5 rows × 40 columns</p>\n",
       "</div>"
      ],
      "text/plain": [
       "   Duration_Seconds  Door_Open_Count  Power_Level_Value  Power_Consumed  \\\n",
       "0               123                1                  1             123   \n",
       "1               371                2                  2             742   \n",
       "2               436                3                  2             872   \n",
       "3               502                1                  3            1506   \n",
       "4               420                3                  1             420   \n",
       "\n",
       "   Mode_Selected_Defrost  Mode_Selected_Popcorn  Mode_Selected_Reheat  \\\n",
       "0                    1.0                    0.0                   0.0   \n",
       "1                    0.0                    1.0                   0.0   \n",
       "2                    0.0                    0.0                   1.0   \n",
       "3                    1.0                    0.0                   0.0   \n",
       "4                    0.0                    0.0                   0.0   \n",
       "\n",
       "   Food_Type_Pizza  Food_Type_Rice  Food_Type_Unknown  ...  Hour_14  Hour_15  \\\n",
       "0              0.0             0.0                0.0  ...      0.0      0.0   \n",
       "1              0.0             0.0                0.0  ...      0.0      0.0   \n",
       "2              0.0             0.0                1.0  ...      0.0      0.0   \n",
       "3              1.0             0.0                0.0  ...      0.0      0.0   \n",
       "4              0.0             0.0                0.0  ...      0.0      0.0   \n",
       "\n",
       "   Hour_16  Hour_17  Hour_18  Hour_19  Hour_20  Hour_21  Hour_22  Hour_23  \n",
       "0      0.0      0.0      0.0      0.0      0.0      1.0      0.0      0.0  \n",
       "1      0.0      0.0      0.0      0.0      0.0      1.0      0.0      0.0  \n",
       "2      0.0      0.0      0.0      0.0      0.0      0.0      0.0      0.0  \n",
       "3      0.0      0.0      0.0      0.0      1.0      0.0      0.0      0.0  \n",
       "4      0.0      0.0      0.0      0.0      0.0      0.0      0.0      0.0  \n",
       "\n",
       "[5 rows x 40 columns]"
      ]
     },
     "execution_count": 22,
     "metadata": {},
     "output_type": "execute_result"
    }
   ],
   "source": [
    "microwave_df_ml.head()"
   ]
  },
  {
   "cell_type": "markdown",
   "id": "5d01b13e",
   "metadata": {},
   "source": [
    "Let's compare power_consumed with the categorical variables. \n",
    "We will examine if the levels have any effect on the target variable.\n",
    "We can test for normality with Shapiro-Wilk test first. If normal we can use t-test or One-Way ANOVA and if it is not normal we can use Mann-Whitney or Kruskall Wallis test (rank sums)."
   ]
  },
  {
   "cell_type": "code",
   "execution_count": 33,
   "id": "fdef449e",
   "metadata": {},
   "outputs": [],
   "source": [
    "from scipy.stats import shapiro, f_oneway, kruskal\n",
    "\n",
    "def compare_groups(categorical_vars):\n",
    "    df = microwave_df\n",
    "    target = 'Power_Consumed'\n",
    "    results = {}\n",
    "\n",
    "    for cat in categorical_vars:\n",
    "        print(f\"For {target} across {cat}:\")\n",
    "        groups = [df[target][df[cat] == g] for g in df[cat].unique()]\n",
    "        \n",
    "        normal = True\n",
    "        for g in df[cat].unique():\n",
    "            data = df[target][df[cat] == g]\n",
    "            stat, p = shapiro(data)\n",
    "            print(f\"{cat} = {g}: Shapiro-Wilk p: {p:.4f}\")\n",
    "            if p <= 0.05:\n",
    "                normal = False\n",
    "        \n",
    "        if normal:\n",
    "            stat, p = f_oneway(*groups)\n",
    "            print(f\"ANOVA p: {p:.4f}\")\n",
    "            test_used = \"ANOVA\"\n",
    "        else:\n",
    "            stat, p = kruskal(*groups)\n",
    "            print(f\"Kruskal-Wallis p: {p:.4f}\")\n",
    "            test_used = \"Kruskal-Wallis\"\n",
    "        \n",
    "        results[cat] = {\"test\": test_used, \"p_value\": p}\n",
    "    \n",
    "    return results"
   ]
  },
  {
   "cell_type": "code",
   "execution_count": 37,
   "id": "3f615300",
   "metadata": {},
   "outputs": [
    {
     "name": "stdout",
     "output_type": "stream",
     "text": [
      "For Power_Consumed across Food_Type:\n",
      "Food_Type = Vegetables: Shapiro-Wilk p: 0.0002\n",
      "Food_Type = Unknown: Shapiro-Wilk p: 0.0002\n",
      "Food_Type = Pizza: Shapiro-Wilk p: 0.0010\n",
      "Food_Type = Chicken: Shapiro-Wilk p: 0.0000\n",
      "Food_Type = Rice: Shapiro-Wilk p: 0.0000\n",
      "Kruskal-Wallis p: 0.4428\n",
      "For Power_Consumed across Mode_Selected:\n",
      "Mode_Selected = Defrost: Shapiro-Wilk p: 0.0000\n",
      "Mode_Selected = Popcorn: Shapiro-Wilk p: 0.0003\n",
      "Mode_Selected = Reheat: Shapiro-Wilk p: 0.0000\n",
      "Mode_Selected = Custom: Shapiro-Wilk p: 0.0000\n",
      "Kruskal-Wallis p: 0.4406\n",
      "For Power_Consumed across DayOfWeek:\n",
      "DayOfWeek = Thursday: Shapiro-Wilk p: 0.0004\n",
      "DayOfWeek = Friday: Shapiro-Wilk p: 0.1364\n",
      "DayOfWeek = Saturday: Shapiro-Wilk p: 0.0000\n",
      "DayOfWeek = Tuesday: Shapiro-Wilk p: 0.0508\n",
      "DayOfWeek = Wednesday: Shapiro-Wilk p: 0.0001\n",
      "DayOfWeek = Sunday: Shapiro-Wilk p: 0.0111\n",
      "DayOfWeek = Monday: Shapiro-Wilk p: 0.0000\n",
      "Kruskal-Wallis p: 0.2842\n",
      "For Power_Consumed across Hour:\n",
      "Hour = 21: Shapiro-Wilk p: 0.1741\n",
      "Hour = 10: Shapiro-Wilk p: 0.2469\n",
      "Hour = 20: Shapiro-Wilk p: 0.5606\n",
      "Hour = 0: Shapiro-Wilk p: 0.0074\n",
      "Hour = 14: Shapiro-Wilk p: 0.0095\n",
      "Hour = 3: Shapiro-Wilk p: 0.0158\n",
      "Hour = 18: Shapiro-Wilk p: 0.0236\n",
      "Hour = 1: Shapiro-Wilk p: 0.2025\n",
      "Hour = 12: Shapiro-Wilk p: 0.2682\n",
      "Hour = 17: Shapiro-Wilk p: 0.0955\n",
      "Hour = 4: Shapiro-Wilk p: 0.1982\n",
      "Hour = 7: Shapiro-Wilk p: 0.1015\n",
      "Hour = 6: Shapiro-Wilk p: 0.0011\n",
      "Hour = 22: Shapiro-Wilk p: 0.0881\n",
      "Hour = 11: Shapiro-Wilk p: 0.0668\n",
      "Hour = 15: Shapiro-Wilk p: 0.2085\n",
      "Hour = 9: Shapiro-Wilk p: 0.0670\n",
      "Hour = 8: Shapiro-Wilk p: 0.0399\n",
      "Hour = 19: Shapiro-Wilk p: 0.2420\n",
      "Hour = 23: Shapiro-Wilk p: 0.0366\n",
      "Hour = 5: Shapiro-Wilk p: 0.3406\n",
      "Hour = 16: Shapiro-Wilk p: 0.3011\n",
      "Hour = 13: Shapiro-Wilk p: 0.4490\n",
      "Hour = 2: Shapiro-Wilk p: 0.0524\n",
      "Kruskal-Wallis p: 0.8885\n",
      "For Power_Consumed across Door_Open_Count:\n",
      "Door_Open_Count = 1: Shapiro-Wilk p: 0.0000\n",
      "Door_Open_Count = 2: Shapiro-Wilk p: 0.0000\n",
      "Door_Open_Count = 3: Shapiro-Wilk p: 0.0000\n",
      "Kruskal-Wallis p: 0.6288\n"
     ]
    }
   ],
   "source": [
    "categorical_vars = ['Food_Type', 'Mode_Selected', 'DayOfWeek','Hour','Door_Open_Count']\n",
    "results = compare_groups(categorical_vars)"
   ]
  },
  {
   "cell_type": "markdown",
   "id": "ac33ccce",
   "metadata": {},
   "source": [
    "Turns out all the distributions for the categorical variables are non normal, so we use Kruskal-Wallis test.\n",
    "However, the p-values are all > 0.05.\n",
    "Hence we do not reject the null hypothesis."
   ]
  },
  {
   "cell_type": "markdown",
   "id": "d6754bec",
   "metadata": {},
   "source": [
    "## Section 3: Machine Learning"
   ]
  },
  {
   "cell_type": "markdown",
   "id": "22a87cf2",
   "metadata": {},
   "source": [
    "Since the five predictor variables do not have any effect on Power_Consumed individually, it is possible that the relationships between the data are a bit complex. We can use a ML model XGBoost to predict Power_Consumed based on our predictor variables.\n",
    "\n",
    "We excluded 'Duration_Seconds' and 'Power_Level_Value' on purpose as our target variable 'Power_Consumed' is derived from the two of them. It would be misleading to use these two values to predict our target variable.\n",
    "\n",
    "The reasoning behind this model was to see if we can capture and predict the relationship between seemingly unrelated habit-based variables such as the time of the day, item microwaved etc to see how much energy is consumed by the device."
   ]
  },
  {
   "cell_type": "code",
   "execution_count": 58,
   "id": "d38ad9f4",
   "metadata": {},
   "outputs": [],
   "source": [
    "from sklearn.model_selection import train_test_split, GridSearchCV\n",
    "from xgboost import XGBRegressor\n",
    "from sklearn.metrics import mean_squared_error, r2_score\n",
    "import numpy as np"
   ]
  },
  {
   "cell_type": "code",
   "execution_count": 59,
   "id": "f5dbea2c",
   "metadata": {},
   "outputs": [],
   "source": [
    "def run_xgboost(X_train, X_test, y_train, y_test, params=None):\n",
    "    if params is None:\n",
    "        params = {\n",
    "            'objective': 'reg:squarederror',\n",
    "            'n_estimators': 100,\n",
    "            'learning_rate': 0.1,\n",
    "            'max_depth': 5,\n",
    "            'random_state': 42\n",
    "        }\n",
    "        \n",
    "    model = XGBRegressor(**params)\n",
    "    model.fit(X_train, y_train)\n",
    "    \n",
    "    y_pred = model.predict(X_test)\n",
    "    \n",
    "    mse = mean_squared_error(y_test, y_pred)\n",
    "    rmse = mse ** 0.5\n",
    "    r2 = r2_score(y_test, y_pred)\n",
    "    \n",
    "    print(f\"RMSE: {rmse:.3f}\")\n",
    "    print(f\"R^2: {r2:.3f}\")\n",
    "    \n",
    "    return model, y_pred"
   ]
  },
  {
   "cell_type": "markdown",
   "id": "df6fb0a1",
   "metadata": {},
   "source": [
    "Now we perform GridSearchCV to find best hyperparameters for XGBoost.\n",
    "This returns the best model and the best parameters."
   ]
  },
  {
   "cell_type": "code",
   "execution_count": 60,
   "id": "b1968cba",
   "metadata": {},
   "outputs": [],
   "source": [
    "def run_grid_search(X_train, y_train, param_grid, cv=3):\n",
    "    xgb_model = XGBRegressor(objective='reg:squarederror', random_state=42)\n",
    "    \n",
    "    grid_search = GridSearchCV(\n",
    "        estimator=xgb_model,\n",
    "        param_grid=param_grid,\n",
    "        cv=cv,\n",
    "        scoring='neg_mean_squared_error',\n",
    "        n_jobs=-1,\n",
    "        verbose=1\n",
    "    )\n",
    "    \n",
    "    grid_search.fit(X_train, y_train)\n",
    "    \n",
    "    print(\"Best hyperparameters:\", grid_search.best_params_)\n",
    "    \n",
    "    return grid_search.best_estimator_, grid_search.best_params_"
   ]
  },
  {
   "cell_type": "code",
   "execution_count": 61,
   "id": "e1e4bf56",
   "metadata": {},
   "outputs": [
    {
     "name": "stdout",
     "output_type": "stream",
     "text": [
      "RMSE: 550.027\n",
      "R^2: -0.289\n",
      "Fitting 3 folds for each of 256 candidates, totalling 768 fits\n",
      "Best hyperparameters: {'colsample_bytree': 0.8, 'learning_rate': 0.05, 'max_depth': 3, 'n_estimators': 100, 'subsample': 1}\n",
      "GridSearch RMSE: 512.885\n",
      "GridSearch R^2: -0.121\n",
      "Normalized RMSE (range): 0.298\n",
      "Normalized RMSE (std): 1.052\n"
     ]
    }
   ],
   "source": [
    "X = microwave_df_ml.drop(columns=['Power_Consumed'])\n",
    "y = microwave_df_ml['Power_Consumed']\n",
    "X_train, X_test, y_train, y_test = train_test_split(\n",
    "    X, y, test_size=0.2, random_state=1\n",
    ")\n",
    "\n",
    "# run default XGBoost\n",
    "model_default, y_pred_default = run_xgboost(X_train, X_test, y_train, y_test)\n",
    "\n",
    "# run Grid Search\n",
    "param_grid = {\n",
    "    'n_estimators': [100, 200, 300, 400],\n",
    "    'max_depth': [3, 5, 7, 9],\n",
    "    'learning_rate': [0.05, 0.1, 0.2, 0.3],\n",
    "    'subsample': [0.8, 1],\n",
    "    'colsample_bytree': [0.8, 1]\n",
    "}\n",
    "best_model, best_params = run_grid_search(X_train, y_train, param_grid)\n",
    "\n",
    "# evaluate the best model\n",
    "y_pred_best = best_model.predict(X_test)\n",
    "mse_best = mean_squared_error(y_test, y_pred_best)\n",
    "rmse_best = np.sqrt(mse_best)\n",
    "r2_best = r2_score(y_test, y_pred_best)\n",
    "\n",
    "# normalized RMSE by target range\n",
    "nrmse_range = rmse_best / (y_test.max() - y_test.min())\n",
    "\n",
    "# normalized RMSE by target standard deviation\n",
    "nrmse_std = rmse_best / y_test.std()\n",
    "\n",
    "print(f\"GridSearch RMSE: {rmse_best:.3f}\")\n",
    "print(f\"GridSearch R^2: {r2_best:.3f}\")\n",
    "print(f\"Normalized RMSE (range): {nrmse_range:.3f}\")\n",
    "print(f\"Normalized RMSE (std): {nrmse_std:.3f}\")"
   ]
  },
  {
   "cell_type": "code",
   "execution_count": 62,
   "id": "89fcf18c",
   "metadata": {},
   "outputs": [
    {
     "data": {
      "image/png": "[encoded data removed]",
      "text/plain": [
       "<Figure size 640x480 with 1 Axes>"
      ]
     },
     "metadata": {},
     "output_type": "display_data"
    }
   ],
   "source": [
    "from xgboost import plot_importance\n",
    "import matplotlib.pyplot as plt\n",
    "\n",
    "plot_importance(best_model, max_num_features=10)\n",
    "plt.show()"
   ]
  },
  {
   "cell_type": "markdown",
   "id": "3540246e",
   "metadata": {},
   "source": [
    "We can see that:<br>\n",
    "Even after tuning, the model is not capturing the true relationship between predictors and Power_Consumed. <br>\n",
    "The negative R² means that the model is not providing useful predictive power compared to a simple baseline. <br>\n",
    "The normalized RMSE > 1 (by std) suggests the model is not competitive with the natural variation in the data.<br>\n",
    "</p>\n",
    "Possible Reasons:<br>\n",
    "<b>Key drivers excluded</b>: Since Power_Consumed is derived directly from Duration_Seconds × Power_Level_Value, excluding these variables will make prediction extremely difficult. <br>\n",
    "<b>Weak signal in other predictors</b>: Variables like Food_Type, Mode_Selected, DayOfWeek may not strongly determine consumption without duration/power level. <br>"
   ]
  },
  {
   "cell_type": "markdown",
   "id": "178256d7",
   "metadata": {},
   "source": [
    "We can try to explore another model. Since we have a lot of categorical variables, we can use <b>CatBootRegressor</b>"
   ]
  },
  {
   "cell_type": "code",
   "execution_count": 68,
   "id": "cc0876fd",
   "metadata": {},
   "outputs": [
    {
     "name": "stderr",
     "output_type": "stream",
     "text": [
      "WARNING: Ignoring invalid distribution -rotobuf (c:\\users\\amit\\anaconda3\\lib\\site-packages)\n",
      "WARNING: Ignoring invalid distribution -rotobuf (c:\\users\\amit\\anaconda3\\lib\\site-packages)\n",
      "WARNING: Ignoring invalid distribution -rotobuf (c:\\users\\amit\\anaconda3\\lib\\site-packages)\n",
      "WARNING: Ignoring invalid distribution -rotobuf (c:\\users\\amit\\anaconda3\\lib\\site-packages)\n",
      "WARNING: Ignoring invalid distribution -rotobuf (c:\\users\\amit\\anaconda3\\lib\\site-packages)\n",
      "WARNING: Ignoring invalid distribution -rotobuf (c:\\users\\amit\\anaconda3\\lib\\site-packages)\n",
      "WARNING: Ignoring invalid distribution -rotobuf (c:\\users\\amit\\anaconda3\\lib\\site-packages)\n",
      "WARNING: Ignoring invalid distribution -rotobuf (c:\\users\\amit\\anaconda3\\lib\\site-packages)\n"
     ]
    }
   ],
   "source": [
    "!pip install -q catboost"
   ]
  },
  {
   "cell_type": "code",
   "execution_count": 70,
   "id": "bc321873",
   "metadata": {},
   "outputs": [
    {
     "name": "stdout",
     "output_type": "stream",
     "text": [
      "0:\tlearn: 442.7639197\ttotal: 183ms\tremaining: 1m 31s\n",
      "100:\tlearn: 319.6824659\ttotal: 6.95s\tremaining: 27.5s\n",
      "200:\tlearn: 223.0735327\ttotal: 14.8s\tremaining: 22s\n",
      "300:\tlearn: 158.4766427\ttotal: 22.8s\tremaining: 15.1s\n",
      "400:\tlearn: 109.8039126\ttotal: 30.6s\tremaining: 7.55s\n",
      "499:\tlearn: 80.2957779\ttotal: 38.4s\tremaining: 0us\n",
      "CatBoost RMSE: 520.520\n",
      "CatBoost R^2: -0.154\n"
     ]
    }
   ],
   "source": [
    "from catboost import CatBoostRegressor\n",
    "\n",
    "X = microwave_df.drop(columns=['Power_Consumed','Duration_Seconds','Power_Level_Value'])\n",
    "y = microwave_df['Power_Consumed']\n",
    "\n",
    "X_train, X_test, y_train, y_test = train_test_split(\n",
    "    X, y, test_size=0.2, random_state=1\n",
    ")\n",
    "\n",
    "# categorical columns\n",
    "categorical_vars = ['Food_Type', 'Mode_Selected', 'DayOfWeek','Hour','Door_Open_Count']\n",
    "\n",
    "# define and train\n",
    "cat_model = CatBoostRegressor(\n",
    "    iterations=500,\n",
    "    learning_rate=0.1,\n",
    "    depth=6,\n",
    "    random_seed=42,\n",
    "    verbose=100\n",
    ")\n",
    "\n",
    "cat_model.fit(X_train, y_train, cat_features=categorical_vars)\n",
    "\n",
    "y_pred_cat = cat_model.predict(X_test)\n",
    "\n",
    "rmse_cat = np.sqrt(mean_squared_error(y_test, y_pred_cat))\n",
    "r2_cat = r2_score(y_test, y_pred_cat)\n",
    "\n",
    "print(f\"CatBoost RMSE: {rmse_cat:.3f}\")\n",
    "print(f\"CatBoost R^2: {r2_cat:.3f}\")"
   ]
  },
  {
   "cell_type": "markdown",
   "id": "70126e61",
   "metadata": {},
   "source": [
    "<b>Our CatBoostRegressor performs just about as badly as the XGBoost model</b><br>\n",
    "This goes to show that the other variables are basically just adding noise to our data.\n",
    "If we look at our overall exploration, the findings we have got are that the microwave data such as 'Food_Type', 'Mode_Selected', 'DayOfWeek','Hour' and 'Door_Open_Count' don't really help us predict the Power_Consumed by the microwave."
   ]
  },
  {
   "cell_type": "markdown",
   "id": "ae408cf7",
   "metadata": {},
   "source": [
    "## Section 4: Evaluation"
   ]
  },
  {
   "cell_type": "markdown",
   "id": "7901fc7b",
   "metadata": {},
   "source": [
    "### Project Summary and Findings\n",
    "\n",
    "#### Objective\n",
    "We aimed to explore how non-personal data collected from home appliances can be used to model usage patterns, and derive actionable insights for product enhancement and business optimization.\n",
    "\n",
    "#### Data Overview\n",
    "The dataset included variables such as:\n",
    "\n",
    "- Appliance usage characteristics: `Duration_Seconds`, `Power_Level_Value`\n",
    "- Contextual features: `Mode_Selected`, `Food_Type`, `Door_Open_Count`, `Hour`, `DayOfWeek`\n",
    "- Derived target: `Power_Consumed` (computed as `Duration_Seconds × Power_Level_Value`)\n",
    "\n",
    "### Analysis Conducted\n",
    "\n",
    "#### 1. Data Visualisation\n",
    "- Chicken is the most frequently microwaved foodtype.\n",
    "- Users tend to use the 'Medium' setting the most on the microwave.\n",
    "- The most commonly used time for the microwave is 0100.\n",
    "- The microwave is most commonly used on Wednesdays.\n",
    "\n",
    "#### 2. Statistical Tests (Kruskal–Wallis)\n",
    "- Tested whether categorical features (`Mode_Selected`, `Food_Type`, `DayOfWeek`) influenced `Power_Consumed`.\n",
    "- **Result:** No significant effect; these features do not explain variation in the target.\n",
    "\n",
    "#### 3. Machine Learning Models\n",
    "- XGBoost and CatBoost regressors were trained to predict `Power_Consumed` using the categorical/contextual features.\n",
    "- **Metrics:** RMSE > 500, R² negative.\n",
    "- **Normalized RMSE (relative to target variability):** ≈ 1.05\n",
    "- **Interpretation:** Models failed to capture meaningful predictive patterns from these features.\n",
    "\n",
    "### Key Insights\n",
    "- **Usage patterns reveal common behavior:** The patterns provide insight into general user habits and appliance utilization.\n",
    "- **Predictive modeling limitations:** Despite clear usage patterns, statistical tests (Kruskal–Wallis) and machine learning models (XGBoost, CatBoost) showed that these contextual and categorical features do **not meaningfully predict `Power Consumed`** by the apppliance. RMSE values were high and R² values were negative, indicating that these features explain very little of the variation in energy consumption. More data is required to accurately predict the power consumed if the company wants to work on energy efficiency in their products.\n",
    "- **Primary drivers of energy consumption:** The key determinants of `Power_Consumed` were the numeric features directly used in its computation (`Duration_Seconds` and `Power_Level_Value`). The other nonpersonal data adds insignificant predictive value for energy consumption.\n",
    "- **Potential for feature-driven insights:** While the current features are weak predictors of power consumption, they may still be valuable for understanding **user behavior patterns, preferences, and appliance usage trends**, which could inform product design and marketing strategies.\n",
    "\n",
    "\n",
    "### Business Implications\n",
    "- Non-personal data collected from appliances can be useful, but only if it contains valuable predictive data.\n",
    "- **Future directions:** If a wider breadth of data can be obtained from the devices, it could go a long way in providing predictive insights. Moreover, more feature engineering can be done to identify valuable composite target variables.\n",
    "\n",
    "### Conclusion\n",
    "- **Prediction of energy consumption from non-primary features is not feasible:** Models trained on categorical and contextual features alone fail to provide accurate predictions of `Power_Consumed`.\n",
    "- **Value lies in behavioral insights rather than energy prediction:** The non-personal data can be leveraged to understand user habits, optimize appliance design, or tailor user experiences, but cannot replace the core energy metrics derived from usage duration and power settings."
   ]
  }
 ],
 "metadata": {
  "kernelspec": {
   "display_name": "Python 3 (ipykernel)",
   "language": "python",
   "name": "python3"
  },
  "language_info": {
   "codemirror_mode": {
    "name": "ipython",
    "version": 3
   },
   "file_extension": ".py",
   "mimetype": "text/x-python",
   "name": "python",
   "nbconvert_exporter": "python",
   "pygments_lexer": "ipython3",
   "version": "3.9.13"
  }
 },
 "nbformat": 4,
 "nbformat_minor": 5
}
